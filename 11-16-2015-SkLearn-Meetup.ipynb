{
 "cells": [
  {
   "cell_type": "markdown",
   "metadata": {},
   "source": [
    "# Goal:\n",
    "In this document we are starting to add some classes to the sklearn module. For this I installed the dev sklearn and then linked it. We worked on two different issues. \n"
   ]
  },
  {
   "cell_type": "code",
   "execution_count": 1,
   "metadata": {
    "collapsed": false
   },
   "outputs": [],
   "source": [
    "import sklearn"
   ]
  },
  {
   "cell_type": "code",
   "execution_count": 2,
   "metadata": {
    "collapsed": false
   },
   "outputs": [
    {
     "data": {
      "text/plain": [
       "'0.18.dev0'"
      ]
     },
     "execution_count": 2,
     "metadata": {},
     "output_type": "execute_result"
    }
   ],
   "source": [
    "sklearn.__version__"
   ]
  },
  {
   "cell_type": "code",
   "execution_count": 3,
   "metadata": {
    "collapsed": false
   },
   "outputs": [],
   "source": [
    "from sklearn.feature_selection import RFE"
   ]
  },
  {
   "cell_type": "markdown",
   "metadata": {},
   "source": [
    "# Issue 5656\n",
    "\n",
    "**RFE doc should mention that the estimator can also have a feature_importances_attribute #5656**\n",
    "\n",
    "https://github.com/scikit-learn/scikit-learn/issues/5656\n",
    "Right now it is mentioned that RecursiveFeatureElimination works only when the estimator has a coef_ attribute. However, that is not the case.\n",
    "\n",
    "The file name is feature_selection.py."
   ]
  },
  {
   "cell_type": "code",
   "execution_count": 4,
   "metadata": {
    "collapsed": false
   },
   "outputs": [],
   "source": [
    "from sklearn.svm import SVC\n",
    "from sklearn.datasets import load_digits\n",
    "from sklearn.feature_selection import RFE\n",
    "import matplotlib.pyplot as plt\n",
    "%matplotlib inline"
   ]
  },
  {
   "cell_type": "code",
   "execution_count": 5,
   "metadata": {
    "collapsed": false
   },
   "outputs": [
    {
     "data": {
      "text/plain": [
       "<matplotlib.text.Text at 0x10f7e4410>"
      ]
     },
     "execution_count": 5,
     "metadata": {},
     "output_type": "execute_result"
    },
    {
     "name": "stderr",
     "output_type": "stream",
     "text": [
      "//anaconda/lib/python2.7/site-packages/matplotlib/collections.py:590: FutureWarning: elementwise comparison failed; returning scalar instead, but in the future will perform elementwise comparison\n",
      "  if self._edgecolors == str('face'):\n"
     ]
    },
    {
     "data": {
      "image/png": "[encoded data removed]",
      "text/plain": [
       "<matplotlib.figure.Figure at 0x10cbf0190>"
      ]
     },
     "metadata": {},
     "output_type": "display_data"
    }
   ],
   "source": [
    "# Load the digits dataset\n",
    "digits = load_digits()\n",
    "X = digits.images.reshape((len(digits.images), -1))\n",
    "y = digits.target\n",
    "\n",
    "# Create the RFE object and rank each pixel\n",
    "svc = SVC(kernel=\"linear\", C=1)  #this is the estimator\n",
    "rfe = RFE(estimator=svc, n_features_to_select=1, step=1)\n",
    "rfe.fit(X, y)\n",
    "ranking = rfe.ranking_.reshape(digits.images[0].shape)\n",
    "\n",
    "# Plot pixel ranking\n",
    "plt.matshow(ranking)\n",
    "plt.colorbar()\n",
    "plt.title(\"Ranking of pixels with RFE\")\n"
   ]
  },
  {
   "cell_type": "markdown",
   "metadata": {
    "collapsed": true
   },
   "source": [
    "### Try with random forest "
   ]
  },
  {
   "cell_type": "code",
   "execution_count": 6,
   "metadata": {
    "collapsed": true
   },
   "outputs": [],
   "source": [
    "from sklearn.ensemble import RandomForestClassifier as rf"
   ]
  },
  {
   "cell_type": "code",
   "execution_count": 7,
   "metadata": {
    "collapsed": false
   },
   "outputs": [
    {
     "data": {
      "text/plain": [
       "RandomForestClassifier(bootstrap=True, class_weight=None, criterion='gini',\n",
       "            max_depth=None, max_features='auto', max_leaf_nodes=None,\n",
       "            min_samples_leaf=1, min_samples_split=2,\n",
       "            min_weight_fraction_leaf=0.0, n_estimators=10, n_jobs=1,\n",
       "            oob_score=False, random_state=None, verbose=0,\n",
       "            warm_start=False)"
      ]
     },
     "execution_count": 7,
     "metadata": {},
     "output_type": "execute_result"
    }
   ],
   "source": [
    "forest = rf()\n",
    "forest.fit(X,y)"
   ]
  },
  {
   "cell_type": "code",
   "execution_count": 8,
   "metadata": {
    "collapsed": false
   },
   "outputs": [
    {
     "data": {
      "text/plain": [
       "array([ 0.        ,  0.00224608,  0.02819818,  0.00727175,  0.00595912,\n",
       "        0.0173798 ,  0.00588907,  0.00044197,  0.        ,  0.00743013,\n",
       "        0.03375539,  0.00496982,  0.02015644,  0.03290413,  0.00307886,\n",
       "        0.00011959,  0.        ,  0.00581985,  0.02303698,  0.02246192,\n",
       "        0.02091847,  0.04748225,  0.01519454,  0.        ,  0.        ,\n",
       "        0.01285991,  0.04762497,  0.02731789,  0.01816413,  0.0226171 ,\n",
       "        0.028008  ,  0.        ,  0.        ,  0.0307979 ,  0.02585366,\n",
       "        0.01558559,  0.04070028,  0.01589386,  0.02729196,  0.        ,\n",
       "        0.        ,  0.00785161,  0.03202465,  0.05001333,  0.02578209,\n",
       "        0.01685801,  0.02135879,  0.        ,  0.00021239,  0.00171542,\n",
       "        0.01968582,  0.01944502,  0.01479845,  0.02204197,  0.028333  ,\n",
       "        0.00060188,  0.        ,  0.00380097,  0.01918646,  0.01186356,\n",
       "        0.03571968,  0.01932355,  0.02749525,  0.00445854])"
      ]
     },
     "execution_count": 8,
     "metadata": {},
     "output_type": "execute_result"
    }
   ],
   "source": [
    "forest.feature_importances_"
   ]
  },
  {
   "cell_type": "markdown",
   "metadata": {},
   "source": [
    "# Issue 5824 \n",
    "\n",
    "*Working on this issue with Hugo Browne. *\n",
    "\n",
    "The issue: Meta-estimators for multi-output learning https://github.com/scikit-learn/scikit-learn/issues/5824\n",
    "\n",
    "I think it would be useful to have meta-estimators for turning a classifier or a regressor into a multi-output classifier or regressor. It's a recurrent pattern and I find myself reimplementing it every once in a while.\n",
    "\n",
    "This is of course useful for estimators that don't have native multi-output support but even for those that have like RF, I find that estimating a model independently for each output sometimes works better.\n",
    "\n",
    "Class names: MultiOutputClassifier and MultiOutputRegressor"
   ]
  },
  {
   "cell_type": "code",
   "execution_count": 9,
   "metadata": {
    "collapsed": false
   },
   "outputs": [],
   "source": [
    "import array\n",
    "import numpy as np\n",
    "import warnings\n",
    "import scipy.sparse as sp\n",
    "\n",
    "from sklearn.base import BaseEstimator, ClassifierMixin, clone, is_classifier\n",
    "from sklearn.base import MetaEstimatorMixin, is_regressor\n",
    "from sklearn.preprocessing import LabelBinarizer\n",
    "from sklearn.metrics.pairwise import euclidean_distances\n",
    "from sklearn.utils import check_random_state\n",
    "from sklearn.utils.validation import _num_samples\n",
    "from sklearn.utils.validation import check_consistent_length\n",
    "from sklearn.utils.validation import check_is_fitted\n",
    "from sklearn.externals.joblib import Parallel\n",
    "from sklearn.externals.joblib import delayed\n",
    "\n",
    "import numpy as np"
   ]
  },
  {
   "cell_type": "code",
   "execution_count": 10,
   "metadata": {
    "collapsed": false
   },
   "outputs": [],
   "source": [
    "# Get the data from the digits and format it for test case. Subset for fast testing\n",
    "# Load the digits dataset\n",
    "digits = load_digits()\n",
    "X = digits.images.reshape((len(digits.images), -1))[:100,:]\n",
    "y = digits.target[:100]\n",
    "\n",
    "# combine these to make a new thing\n",
    "Y= np.vstack((y.T,y.T)).T"
   ]
  },
  {
   "cell_type": "code",
   "execution_count": 99,
   "metadata": {
    "collapsed": false
   },
   "outputs": [],
   "source": [
    "from sklearn.multiclass import OneVsRestClassifier\n",
    "\n",
    "class MultiOneVsRestClassifier(BaseEstimator, ClassifierMixin, MetaEstimatorMixin):\n",
    "    \"\"\"This class fits a series of one-versus-all models to response matrix Y with n_samples and p\n",
    "    labels on the predictor Matrix X with n_samples and m_feature variables. This allows for multiple \n",
    "    label classification. For each label (column in Y), a separate OneVsRestClassifier is fit. \n",
    "    See the base OneVsRestClassifier Class in sklearn.multiclass for more details.\n",
    "    \n",
    "    Parameters\n",
    "    ----------\n",
    "    estimator : estimator object\n",
    "        An estimator object implementing `fit` and one of `decision_function`\n",
    "        or `predict_proba`.\n",
    "    n_jobs : int, optional, default: 1\n",
    "        The number of jobs to use for the computation. If -1 all CPUs are used.\n",
    "        If 1 is given, no parallel computing code is used at all, which is\n",
    "        useful for debugging. For n_jobs below -1, (n_cpus + 1 + n_jobs) are\n",
    "        used. Thus for n_jobs = -2, all CPUs but one are used.\n",
    "        \n",
    "        Note that parallel processing only occurs if there is multiple classes within each label. \n",
    "        It does each label in y in series.\n",
    "        \n",
    "        \"\"\"\n",
    "    \n",
    "    def __init__(self, estimator, n_jobs=1):\n",
    "        self.estimator = estimator\n",
    "        self.n_jobs = n_jobs\n",
    "\n",
    "    def fit(self, X, y):\n",
    "        \"\"\"Fit underlying estimators. Creates a dictionary of the estimators. \n",
    "\n",
    "        Parameters\n",
    "        ----------\n",
    "        X : (sparse) array-like, shape = [n_samples, n_features]\n",
    "            Data.\n",
    "\n",
    "        y : (sparse) array-like, shape = [n_samples, n_classes]\n",
    "            Multi-class targets. An indicator matrix turns on multilabel\n",
    "            classification.\n",
    "\n",
    "        Returns\n",
    "        -------\n",
    "        self\n",
    "        \"\"\"\n",
    "\n",
    "        # Calculate the number of classifiers\n",
    "        num_y = y.shape[1]\n",
    "        \n",
    "        ## create a dictionary of estimators\n",
    "        self.estimators_ ={}\n",
    "        \n",
    "        # intit OneVsRestClassfier\n",
    "        ovr = OneVsRestClassifier(self.estimator,self.n_jobs)\n",
    "        \n",
    "        for i in range(num_y):\n",
    "            self.estimators_[i] = ovr.fit(X,y[:, i])\n",
    "            \n",
    "        return self\n",
    "    \n",
    "    def predict(self, X):\n",
    "        \"\"\"Predict multi-class multi-label targets using a model trained for each label. \n",
    "\n",
    "        Parameters\n",
    "        ----------\n",
    "        X : (sparse) array-like, shape = [n_samples, n_features]\n",
    "        Data.\n",
    "\n",
    "        Returns\n",
    "        -------\n",
    "        y : dict of [(sparse) array-like], shape = {predictors: n_samples}\n",
    "          or {predictors: [n_samples, n_classes], n_predictors}.\n",
    "            Predicted multi-class targets across multiple predictors.\n",
    "            Note:  entirely separate models are generated for each predictor.\n",
    "        \"\"\"\n",
    "        # check to see if the fit has been performed\n",
    "        check_is_fitted(self, 'estimators_')\n",
    "        \n",
    "        results = {}\n",
    "        for label, model_ in self.estimators_.iteritems():\n",
    "            results[label] = model_.predict( X)\n",
    "        return(results)\n",
    "    \n",
    "    def predict_proba(self, X):\n",
    "        \"\"\"Probability estimates. This returns prediction probabilites for each class for each label in the form of \n",
    "        a dictionary. \n",
    "       \n",
    "        Parameters\n",
    "        ----------\n",
    "        X : array-like, shape = [n_samples, n_features]\n",
    "        Returns\n",
    "        -------\n",
    "        prob_dict (dict) A dictionary containing n_label sparse arrays with shape = [n_samples, n_classes]. \n",
    "            Each row in the array contains the the probability of the sample for each class in the model,\n",
    "            where classes are ordered as they are in `self.classes_`.\n",
    "        \"\"\"\n",
    "        # check to see whether the fit has occured. \n",
    "        check_is_fitted(self, 'estimators_')\n",
    "        \n",
    "        results ={}\n",
    "        for label, model_ in self.estimators_.iteritems():\n",
    "            results[label] = model_.predict_proba(X)\n",
    "        return(results)\n",
    "    \n",
    "    @property\n",
    "    def multilabel_(self):\n",
    "        \"\"\"returns a vector of whether each classifer is a  multilabel classifier in tuple for\"\"\"\n",
    "        return [(label, model_.multilabel_) for label, model_ in self.estimators_.iteritems()]\n",
    "    @property\n",
    "    def classes_(self):\n",
    "        return [(label, model_.label_binarizer_) for label, model_ in self.estimators_.iteritems()]\n",
    " "
   ]
  },
  {
   "cell_type": "code",
   "execution_count": 92,
   "metadata": {
    "collapsed": false
   },
   "outputs": [],
   "source": [
    "M = MultiOneVsRestClassifier(forest, n_jobs = -1)"
   ]
  },
  {
   "cell_type": "code",
   "execution_count": 93,
   "metadata": {
    "collapsed": false,
    "scrolled": true
   },
   "outputs": [
    {
     "data": {
      "text/plain": [
       "MultiOneVsRestClassifier(estimator=RandomForestClassifier(bootstrap=True, class_weight=None, criterion='gini',\n",
       "            max_depth=None, max_features='auto', max_leaf_nodes=None,\n",
       "            min_samples_leaf=1, min_samples_split=2,\n",
       "            min_weight_fraction_leaf=0.0, n_estimators=10, n_jobs=1,\n",
       "            oob_score=False, random_state=None, verbose=0,\n",
       "            warm_start=False),\n",
       "             n_jobs=-1)"
      ]
     },
     "execution_count": 93,
     "metadata": {},
     "output_type": "execute_result"
    }
   ],
   "source": [
    "M.fit(X,Y)"
   ]
  },
  {
   "cell_type": "code",
   "execution_count": 94,
   "metadata": {
    "collapsed": false
   },
   "outputs": [],
   "source": [
    "probs = M.predict_proba(X)"
   ]
  },
  {
   "cell_type": "code",
   "execution_count": 95,
   "metadata": {
    "collapsed": false
   },
   "outputs": [],
   "source": [
    "f = M.estimators_[0]"
   ]
  },
  {
   "cell_type": "code",
   "execution_count": 96,
   "metadata": {
    "collapsed": false
   },
   "outputs": [
    {
     "data": {
      "text/plain": [
       "LabelBinarizer(neg_label=0, pos_label=1, sparse_output=True)"
      ]
     },
     "execution_count": 96,
     "metadata": {},
     "output_type": "execute_result"
    }
   ],
   "source": [
    "f.label_binarizer_"
   ]
  },
  {
   "cell_type": "code",
   "execution_count": 97,
   "metadata": {
    "collapsed": false
   },
   "outputs": [
    {
     "data": {
      "text/plain": [
       "[(0, LabelBinarizer(neg_label=0, pos_label=1, sparse_output=True)),\n",
       " (1, LabelBinarizer(neg_label=0, pos_label=1, sparse_output=True))]"
      ]
     },
     "execution_count": 97,
     "metadata": {},
     "output_type": "execute_result"
    }
   ],
   "source": [
    "M.classes_"
   ]
  },
  {
   "cell_type": "code",
   "execution_count": null,
   "metadata": {
    "collapsed": true
   },
   "outputs": [],
   "source": []
  }
 ],
 "metadata": {
  "kernelspec": {
   "display_name": "IPython (Python 3)",
   "language": "python",
   "name": "python3"
  },
  "language_info": {
   "codemirror_mode": {
    "name": "ipython",
    "version": 2
   },
   "file_extension": ".py",
   "mimetype": "text/x-python",
   "name": "python",
   "nbconvert_exporter": "python",
   "pygments_lexer": "ipython2",
   "version": "2.7.10"
  }
 },
 "nbformat": 4,
 "nbformat_minor": 0
}
