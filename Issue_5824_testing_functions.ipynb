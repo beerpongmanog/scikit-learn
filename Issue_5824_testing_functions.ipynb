{
 "cells": [
  {
   "cell_type": "markdown",
   "metadata": {},
   "source": [
    "# Issue 5824\n",
    "Continuing to work on this issue with the very awesome Hugo Bowne-Anderson.\n",
    "The issue: Meta-estimators for multi-output learning https://github.com/scikit-learn/scikit-learn/issues/5824\n",
    "I think it would be useful to have meta-estimators for turning a classifier or a regressor into a multi-output classifier or regressor. It's a recurrent pattern and I find myself reimplementing it every once in a while.\n",
    "This is of course useful for estimators that don't have native multi-output support but even for those that have like RF, I find that estimating a model independently for each output sometimes works better.\n",
    "Class names: MultiOutputClassifier and MultiOutputRegressor.\n",
    "\n",
    "Recently: Hugo, Micheal and I wrote some of the base code. Hugo has worked on documentation. I am now implementing test cases. "
   ]
  },
  {
   "cell_type": "code",
   "execution_count": 1,
   "metadata": {
    "collapsed": false
   },
   "outputs": [],
   "source": [
    "import sys\n",
    "sys.path.append('dev_multi/')\n",
    "import numpy as np\n",
    "\n",
    "from MultiOneVsRest import MultiOneVsRestClassifier \n",
    "from sklearn.datasets import load_digits\n",
    "from sklearn.base import clone\n",
    "from sklearn.ensemble import RandomForestClassifier\n",
    "from sklearn.linear_model import LogisticRegression\n",
    "\n",
    "# Import libraries for vaidation\n",
    "import sklearn.utils.estimator_checks as ec\n",
    "import sklearn.utils.validation  as val\n",
    "from sklearn import datasets\n",
    "\n",
    "# import the shuffle \n",
    "from sklearn.utils import shuffle\n",
    "from sklearn.preprocessing import LabelBinarizer\n",
    "\n",
    "# these are function for testing\n",
    "from sklearn.utils.testing import assert_array_equal\n",
    "from sklearn.utils.testing import assert_equal\n",
    "from sklearn.utils.testing import assert_almost_equal"
   ]
  },
  {
   "cell_type": "markdown",
   "metadata": {
    "collapsed": false
   },
   "source": [
    "### Develop a nice test case\n",
    "Below I a create a function for generating a test case for multitarget classification. I use the iris data set for this.\n"
   ]
  },
  {
   "cell_type": "code",
   "execution_count": 2,
   "metadata": {
    "collapsed": true
   },
   "outputs": [],
   "source": [
    "def _create_data_set():\n",
    "    \"\"\" Creates a multi-target data set using the iris data set.\n",
    "    Returns:\n",
    "    ________\n",
    "        X : (numpy matrix): The iris predictor data.\n",
    "        Y : (numpy array): A multi-target (150x3) array generated from the \n",
    "        original response data\n",
    "        \"\"\"\n",
    "    \n",
    "    # Import the data \n",
    "    iris = datasets.load_iris()\n",
    "    X = iris.data\n",
    "\n",
    "    # create a multiple targets by randomizing the shuffling and concatenating y. \n",
    "    y1 = iris.target\n",
    "    y2 = shuffle(y1, random_state = 1) \n",
    "    y3 = shuffle(y1, random_state = 2)\n",
    "\n",
    "    # concatenate the array and transpose\n",
    "    Y = np.vstack((y1,y2,y3)).T\n",
    "    \n",
    "    return(X,Y)"
   ]
  },
  {
   "cell_type": "markdown",
   "metadata": {},
   "source": [
    "### Functions for testing the random_forest with the multi-target. \n",
    "\n",
    "Below are several functions for test the subprocesses of the multitarge function. "
   ]
  },
  {
   "cell_type": "code",
   "execution_count": 3,
   "metadata": {
    "collapsed": false
   },
   "outputs": [],
   "source": [
    "def _set_up_multi_target_random_forest():\n",
    "    ''' Set up the forest and multi-target forest'''\n",
    "    \n",
    "    forest = RandomForestClassifier(n_estimators =100, random_state=1)\n",
    "    multi_target_forest = MultiOneVsRestClassifier(forest, n_jobs = -1)\n",
    "    \n",
    "    return forest, multi_target_forest\n",
    "\n",
    "\n",
    "def test_multi_target_init_with_random_forest():\n",
    "    ''' test if multi_target initilizes correctly as desired for random forest.'''\n",
    "    \n",
    "    forest, multi_target_forest = _set_up_multi_target_random_forest()\n",
    "    \n",
    "    # check to see that the estimator type is correct\n",
    "    assert_equal(forest, multi_target_forest.estimator)\n",
    "    #check to that the number of jobs is correct\n",
    "    assert_equal(-1,multi_target_forest.n_jobs)\n",
    "    \n",
    "def test_multi_target_fit_and_predict_with_random_forest():\n",
    "    ''' test the fit procedure with random forest and assert that predictions work as expected. '''\n",
    "    \n",
    "    X,Y = _create_data_set()\n",
    "    forest, multi_target_forest = _set_up_multi_target_random_forest()\n",
    "    \n",
    "    # train the multi_target_forest and also get the predictions. \n",
    "    multi_target_forest.fit(X,Y)\n",
    "    predictions = multi_target_forest.predict(X)\n",
    "    assert_equal(3,len(predictions))\n",
    "    \n",
    "    # train the forest with each column and then assert that the predictions are equal\n",
    "    for i in range(3):     \n",
    "        forest.fit(X,Y[:,i])\n",
    "        assert_equal(list(forest.predict(X)), list(predictions[i]))\n",
    "\n",
    "\n",
    "def test_multi_target_fit_and_predict_probs_with_random_forest(): \n",
    "    ''' test the that the fit probabilites are as expected up to one decimal point'''\n",
    "    \n",
    "    # create the data set using the helper function \n",
    "    X,Y = _create_data_set()\n",
    "    forest, multi_target_forest = _set_up_multi_target_random_forest()\n",
    "    \n",
    "    # train the multi_target_forest\n",
    "    multi_target_forest.fit(X,Y)\n",
    "    # train the forest with each column and then assert that the predictions are equal\n",
    "    for i in range(3):\n",
    "        forest_ = clone(forest)  #create a clone with the same state\n",
    "        forest_.fit(X,Y[:,i])\n",
    "        assert_almost_equal(list(forest_.predict_proba(X)), list(multi_target_forest.predict_proba(X)[i]), decimal = 1)\n",
    "\n",
    "        \n",
    "def test_multi_target_score():\n",
    "    ''' test the scoring function '''\n",
    "    \n",
    "    # create the data set using the helper function \n",
    "    X,Y = _create_data_set()\n",
    "    forest, multi_target_forest = _set_up_multi_target_random_forest()\n",
    "    \n",
    "    # train the multi_target_forest\n",
    "    multi_target_forest.fit(X,Y)\n",
    "    \n",
    "    #score the multi_target_forest expect an array of floats\n",
    "    multi_score = multi_target_forest.score(X,Y)\n",
    "    \n",
    "    # train the forest with each column and then assert that scores are similar. \n",
    "    for i in range(3):\n",
    "        score = forest.fit(X,Y[:,i]).score(X,Y[:,i])\n",
    "        assert_almost_equal(score, multi_score[i])"
   ]
  },
  {
   "cell_type": "code",
   "execution_count": 4,
   "metadata": {
    "collapsed": false
   },
   "outputs": [],
   "source": [
    "test_multi_target_fit_and_predict_with_random_forest()"
   ]
  },
  {
   "cell_type": "code",
   "execution_count": 5,
   "metadata": {
    "collapsed": false
   },
   "outputs": [],
   "source": [
    "test_multi_target_fit_and_predict_probs_with_random_forest()"
   ]
  },
  {
   "cell_type": "code",
   "execution_count": 6,
   "metadata": {
    "collapsed": false
   },
   "outputs": [],
   "source": [
    "test_multi_target_score()"
   ]
  },
  {
   "cell_type": "markdown",
   "metadata": {},
   "source": [
    "### Ending remarks. \n",
    "\n",
    "The above functions test that the the following modalities work with random forest for our class: \n",
    "    1. Inititialization. \n",
    "    2. Fitting with data. \n",
    "    3. Prediction. \n",
    "    4. Returning Probabilities. \n",
    "    5. Scoring. "
   ]
  }
 ],
 "metadata": {
  "kernelspec": {
   "display_name": "Python 2",
   "language": "python",
   "name": "python2"
  },
  "language_info": {
   "codemirror_mode": {
    "name": "ipython",
    "version": 2
   },
   "file_extension": ".py",
   "mimetype": "text/x-python",
   "name": "python",
   "nbconvert_exporter": "python",
   "pygments_lexer": "ipython2",
   "version": "2.7.10"
  }
 },
 "nbformat": 4,
 "nbformat_minor": 0
}
